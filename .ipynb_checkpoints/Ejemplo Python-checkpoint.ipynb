{
 "cells": [
  {
   "cell_type": "code",
   "execution_count": 18,
   "id": "422e3bf9-eba1-4e85-9d97-819316388257",
   "metadata": {},
   "outputs": [
    {
     "name": "stdout",
     "output_type": "stream",
     "text": [
      "0.5\n",
      "1.0\n",
      "8.0\n",
      "448.0\n",
      "3136.0\n"
     ]
    }
   ],
   "source": [
    "lo = [1, 2, 8, 56, 7]\n",
    "#print(*lo, sep='\\n')\n",
    "z = 0.5\n",
    "\n",
    "for y in lo:\n",
    "    z = z*y\n",
    "    print(z)\n",
    "\n"
   ]
  }
 ],
 "metadata": {
  "kernelspec": {
   "display_name": "Python 3 (ipykernel)",
   "language": "python",
   "name": "python3"
  },
  "language_info": {
   "codemirror_mode": {
    "name": "ipython",
    "version": 3
   },
   "file_extension": ".py",
   "mimetype": "text/x-python",
   "name": "python",
   "nbconvert_exporter": "python",
   "pygments_lexer": "ipython3",
   "version": "3.10.9"
  }
 },
 "nbformat": 4,
 "nbformat_minor": 5
}
