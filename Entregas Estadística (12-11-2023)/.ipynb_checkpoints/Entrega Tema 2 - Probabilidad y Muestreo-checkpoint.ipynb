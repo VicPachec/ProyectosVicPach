{
 "cells": [
  {
   "cell_type": "markdown",
   "id": "83be3513-aa5a-424a-b325-2b565e86c519",
   "metadata": {},
   "source": [
    "# 1. Media de alcohol de todos los vinos registrados en el dataset\n",
    "Se cargan las librerías respectivas en Python antes de inicializar los procedimientos (librería **Scikit-learn**)"
   ]
  },
  {
   "cell_type": "code",
   "execution_count": 1,
   "id": "8a37603e-ceed-4323-8ca5-beacef01a746",
   "metadata": {},
   "outputs": [],
   "source": [
    "from sklearn.datasets import load_wine\n",
    "from sklearn.linear_model import LinearRegression\n",
    "from sklearn.model_selection import train_test_split\n",
    "from sklearn.model_selection import cross_val_score\n",
    "from sklearn.model_selection import KFold"
   ]
  },
  {
   "cell_type": "markdown",
   "id": "f89d7eab-1329-420f-a0aa-3ba0e4990d55",
   "metadata": {},
   "source": [
    "Cargamos el dataset en la variable \"vino\" y separamos la columna del dataset **respectiva al alcohol** para trabajar con ella (variable \"alcohol\")"
   ]
  },
  {
   "cell_type": "code",
   "execution_count": 2,
   "id": "d9115116-58c8-4b4c-89a9-1db5ce939b80",
   "metadata": {},
   "outputs": [],
   "source": [
    "vino = load_wine()\n",
    "alcohol = vino.data[:, 0]"
   ]
  },
  {
   "cell_type": "markdown",
   "id": "81e87c1c-1002-4e8a-aac8-2100ff1c6ab6",
   "metadata": {},
   "source": [
    "Se realiza el cálculo de la media utilizando la **función \"mean\"** integrada en Python. Como alternativa también **se puede usar NumPy** si se desea. Se imprime el resultado arrojado."
   ]
  },
  {
   "cell_type": "code",
   "execution_count": 3,
   "id": "64177a6b-e5ca-4a16-b810-5c15526912af",
   "metadata": {},
   "outputs": [
    {
     "name": "stdout",
     "output_type": "stream",
     "text": [
      "La media de alcohol es de 13.00%\n"
     ]
    }
   ],
   "source": [
    "media_alcohol = alcohol.mean()\n",
    "print(f\"La media de alcohol es de {media_alcohol:.2f}%\")"
   ]
  },
  {
   "cell_type": "markdown",
   "id": "b79c71c4-74bb-4a4d-839f-c5bf8e0e3608",
   "metadata": {},
   "source": [
    "# 2. Entrenamiento del modelo con base a una Regresión Lineal\n",
    "*Se omitirán los pasos respectivos a la carga de librerías, funciones y datasets ya que fueron realizados anteriormente.*\n",
    "\n",
    "Se realiza la separación de las variables respectivas **dependiente e independiente (\"x\" y \"y\")**"
   ]
  },
  {
   "cell_type": "code",
   "execution_count": 6,
   "id": "6dd334c3-3aa5-44f7-82f4-45822c95fd92",
   "metadata": {},
   "outputs": [],
   "source": [
    "x = vino.data\n",
    "y = vino.target"
   ]
  },
  {
   "cell_type": "markdown",
   "id": "0ed96af4-3f35-4f36-97c9-5eeb3847e8be",
   "metadata": {},
   "source": [
    "Se dividen los datos en un conjunto de entrenamiento y un conjunto de prueba por cada variable. Se establece un tamaño de la muestra de 0.25."
   ]
  },
  {
   "cell_type": "code",
   "execution_count": 7,
   "id": "1b97a1d8-fd94-4051-8dd8-844455f1b0d7",
   "metadata": {},
   "outputs": [],
   "source": [
    "x_train, x_test, y_train, y_test = train_test_split(x, y, test_size=0.25)"
   ]
  },
  {
   "cell_type": "markdown",
   "id": "9386abf1-9de4-447e-890b-37d7cb90bf40",
   "metadata": {},
   "source": [
    "Se realiza el entrenamiento de todo el modelo con el conjunto de entrenamiento respectivo"
   ]
  },
  {
   "cell_type": "code",
   "execution_count": 9,
   "id": "44c3aa9a-abac-418d-8811-aaf702df7761",
   "metadata": {},
   "outputs": [],
   "source": [
    "modelo = LinearRegression().fit(x_train, y_train)"
   ]
  },
  {
   "cell_type": "markdown",
   "id": "ce20a60c-dc12-4bc5-aea0-7ff7c80af6ab",
   "metadata": {},
   "source": [
    "# 3. Métrica de éxito (score) del entrenamiento\n",
    "Se genera un puntaje del **éxito del modelo generado**, utilizando el modelo previamente generado, y utilizando la función \"score\". Se imprime el resultado del éxito del modelo generado."
   ]
  },
  {
   "cell_type": "code",
   "execution_count": 10,
   "id": "dbd27029-daf8-4a2e-85d9-7caa123594b1",
   "metadata": {},
   "outputs": [
    {
     "name": "stdout",
     "output_type": "stream",
     "text": [
      "El éxito del modelo en el conjunto de prueba es del 83%\n"
     ]
    }
   ],
   "source": [
    "exito = modelo.score(x_test, y_test)\n",
    "\n",
    "print(f\"El éxito del modelo en el conjunto de prueba es del {exito:.0%}\")"
   ]
  },
  {
   "cell_type": "markdown",
   "id": "17e208b9-3e14-49e7-84cd-32a6f3467765",
   "metadata": {},
   "source": [
    "El valor arrojado para el modelo (82%) es aceptable sin embargo puede tener **áreas de oportunidad**, por lo que se puede intentar mejorar el éxito del modelo ajustando los parámetros del modelo. Por ejemplo, **podemos cambiar el valor de alpha**, que controla la fuerza de regularización del modelo. El valor predeterminado de alpha es **0.0001**. Podemos probar valores más altos o más bajos de alpha para ver si podemos mejorar el puntaje del modelo.\n",
    "\n",
    "También se puede intentar agregar **más variables independientes** al modelo. Por ejemplo, podemos agregar las variables \"color\", \"acidez fija\" y \"pH\" al modelo."
   ]
  },
  {
   "cell_type": "markdown",
   "id": "9de230c0-2cca-4f4d-87d7-c428410c0b1a",
   "metadata": {},
   "source": [
    "# 4. Validación con el método de K-fold Cross-Validation\n",
    "Para la validación cruzada (K-fold Cross-Validation), se definirá un número de iteraciones (folds) como validación del set disponible. Se coloca n_folds = 5 como el número de folds a realizar."
   ]
  },
  {
   "cell_type": "code",
   "execution_count": 11,
   "id": "bfc1e332-83cf-44e5-87aa-7de5e3000c1b",
   "metadata": {},
   "outputs": [],
   "source": [
    "n_folds = 5"
   ]
  },
  {
   "cell_type": "markdown",
   "id": "3d11815a-ac5c-4abf-a4e3-8453cfd50d0f",
   "metadata": {},
   "source": [
    "Se crea el **objeto KFold** que realizará la función del cruzamiento de validaciones dentro de la librería Scikit-learn, función KFold"
   ]
  },
  {
   "cell_type": "code",
   "execution_count": 12,
   "id": "8ae112c9-d059-46eb-bb6d-ed8a91130b56",
   "metadata": {},
   "outputs": [],
   "source": [
    "kfold = KFold(n_splits=n_folds, shuffle=True, random_state=42)"
   ]
  },
  {
   "cell_type": "markdown",
   "id": "31c6878b-8d78-4532-8314-6c47e93a0d11",
   "metadata": {},
   "source": [
    "# 5. Métrica de éxito (cross_val_score) tras la validación del modelo.\n",
    "Se realiza la iteración en cada fold (n_folds) a través de un ciclo \"for\", para visualizar **la mejora del éxito del modelo** conforme se incrementa el número de folds (n_folds). Se agregan media y desviación estándar para determinar el parámetro del modelo."
   ]
  },
  {
   "cell_type": "code",
   "execution_count": 14,
   "id": "efeb91ed-b0da-4480-be8f-289510ef88ed",
   "metadata": {},
   "outputs": [
    {
     "name": "stdout",
     "output_type": "stream",
     "text": [
      "Iteración 1: 88%\n",
      "Iteración 2: 89%\n",
      "Iteración 3: 86%\n",
      "Iteración 4: 90%\n",
      "Iteración 5: 85%\n",
      "Media: 0.8767328127813474\n",
      "Desviación Estándar: 0.0179436934346585\n"
     ]
    }
   ],
   "source": [
    "results = cross_val_score(modelo, x, y, cv=kfold)\n",
    "\n",
    "for i, result in enumerate(results):\n",
    "    print(f\"Iteración {i+1}: {result:.0%}\")\n",
    "\n",
    "print(f\"Media: {results.mean()}\")\n",
    "print(f\"Desviación Estándar: {results.std()}\")"
   ]
  }
 ],
 "metadata": {
  "kernelspec": {
   "display_name": "Python 3 (ipykernel)",
   "language": "python",
   "name": "python3"
  },
  "language_info": {
   "codemirror_mode": {
    "name": "ipython",
    "version": 3
   },
   "file_extension": ".py",
   "mimetype": "text/x-python",
   "name": "python",
   "nbconvert_exporter": "python",
   "pygments_lexer": "ipython3",
   "version": "3.10.9"
  }
 },
 "nbformat": 4,
 "nbformat_minor": 5
}
