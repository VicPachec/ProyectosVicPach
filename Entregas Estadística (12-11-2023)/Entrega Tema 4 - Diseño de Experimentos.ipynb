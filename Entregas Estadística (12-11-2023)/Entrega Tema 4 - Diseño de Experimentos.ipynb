{
 "cells": [
  {
   "cell_type": "markdown",
   "id": "1b3cce39-1151-4e85-b0cd-9eae3b76b30a",
   "metadata": {},
   "source": [
    "# Diseño de Experimentos - Caso Emisiones Contaminantes Coche\n",
    "Se cargan las librerías respectivas en Python antes de inicializar los procedimientos (librerías **Statsmodels, Pandas, Matplotlib, y NumPy**)."
   ]
  },
  {
   "cell_type": "code",
   "execution_count": 2,
   "id": "eb6f3ea7-bf14-4f0d-911c-23110a3f2ee7",
   "metadata": {},
   "outputs": [],
   "source": [
    "import pandas as pd\n",
    "import numpy as np\n",
    "import statsmodels.formula.api as smf\n",
    "from statsmodels.stats.anova import anova_lm\n",
    "import matplotlib.pyplot as plt"
   ]
  },
  {
   "cell_type": "markdown",
   "id": "dda09ba9-d292-471b-a7c3-14aee44d06fb",
   "metadata": {},
   "source": [
    "Se realizará la creación del DataFrame respectivo. El diseño es un cuadrado latino 4x4, por lo que habrá **16 tratamientos** en total."
   ]
  },
  {
   "cell_type": "code",
   "execution_count": 9,
   "id": "ea289004-2c02-46b0-ba6f-457fcbe55db5",
   "metadata": {},
   "outputs": [
    {
     "name": "stdout",
     "output_type": "stream",
     "text": [
      "                            OLS Regression Results                            \n",
      "==============================================================================\n",
      "Dep. Variable:              Emisiones   R-squared:                       0.811\n",
      "Model:                            OLS   Adj. R-squared:                  0.685\n",
      "Method:                 Least Squares   F-statistic:                     6.429\n",
      "Date:                Sun, 12 Nov 2023   Prob (F-statistic):            0.00712\n",
      "Time:                        16:53:36   Log-Likelihood:                -32.725\n",
      "No. Observations:                  16   AIC:                             79.45\n",
      "Df Residuals:                       9   BIC:                             84.86\n",
      "Df Model:                           6                                         \n",
      "Covariance Type:            nonrobust                                         \n",
      "========================================================================================\n",
      "                           coef    std err          t      P>|t|      [0.025      0.975]\n",
      "----------------------------------------------------------------------------------------\n",
      "const                   17.8750      0.948     18.849      0.000      15.730      20.020\n",
      "Conducción_Joven        -1.0000      1.764     -0.567      0.585      -4.990       2.990\n",
      "Conducción_Mayor        -9.0000      1.764     -5.103      0.001     -12.990      -5.010\n",
      "Conducción_Muy mayor    -6.0000      1.764     -3.402      0.008      -9.990      -2.010\n",
      "Marca_Kia                4.0625      0.609      6.673      0.000       2.685       5.440\n",
      "Marca_Renault            2.5625      0.609      4.209      0.002       1.185       3.940\n",
      "Marca_Seat               5.1250      1.046      4.900      0.001       2.759       7.491\n",
      "Aditivo_M2               6.1250      1.046      5.857      0.000       3.759       8.491\n",
      "Aditivo_M3               2.5625      0.609      4.209      0.002       1.185       3.940\n",
      "Aditivo_M4               4.0625      0.609      6.673      0.000       2.685       5.440\n",
      "==============================================================================\n",
      "Omnibus:                        0.834   Durbin-Watson:                   3.196\n",
      "Prob(Omnibus):                  0.659   Jarque-Bera (JB):                0.667\n",
      "Skew:                          -0.000   Prob(JB):                        0.717\n",
      "Kurtosis:                       2.000   Cond. No.                     2.71e+16\n",
      "==============================================================================\n",
      "\n",
      "Notes:\n",
      "[1] Standard Errors assume that the covariance matrix of the errors is correctly specified.\n",
      "[2] The smallest eigenvalue is 3.45e-32. This might indicate that there are\n",
      "strong multicollinearity problems or that the design matrix is singular.\n"
     ]
    },
    {
     "name": "stderr",
     "output_type": "stream",
     "text": [
      "/home/victorpacheco/anaconda3/lib/python3.10/site-packages/scipy/stats/_stats_py.py:1806: UserWarning: kurtosistest only valid for n>=20 ... continuing anyway, n=16\n",
      "  warnings.warn(\"kurtosistest only valid for n>=20 ... continuing \"\n"
     ]
    }
   ],
   "source": [
    "import numpy as np\n",
    "import pandas as pd\n",
    "import statsmodels.api as sm\n",
    "\n",
    "# Datos del cuadrado latino\n",
    "data = pd.DataFrame({\n",
    "    \"Conducción\": np.repeat([\"Joven\", \"Adulto\", \"Mayor\", \"Muy mayor\"], 4),\n",
    "    \"Marca\": np.tile([\"Seat\", \"Ford\", \"Renault\", \"Kia\"], 4),\n",
    "    \"Aditivo\": np.tile([\"M1\", \"M2\", \"M3\", \"M4\"], 4),\n",
    "    \"Emisiones\": [21, 26, 20, 25, 23, 26, 20, 27, 15, 13, 16, 16, 17, 15, 20, 20]\n",
    "})\n",
    "\n",
    "# Convertir variables categóricas en variables dummy\n",
    "data = pd.get_dummies(data, columns=[\"Conducción\", \"Marca\", \"Aditivo\"], drop_first=True)\n",
    "\n",
    "# Análisis de la varianza\n",
    "model = sm.OLS(data[\"Emisiones\"], sm.add_constant(data.drop(\"Emisiones\", axis=1)))\n",
    "results = model.fit()\n",
    "\n",
    "# Resumen del análisis de la varianza\n",
    "print(results.summary())\n",
    "\n",
    "\n",
    "\n"
   ]
  },
  {
   "cell_type": "code",
   "execution_count": null,
   "id": "1b03fac3-cd74-4d3c-973c-2545c53663d2",
   "metadata": {},
   "outputs": [],
   "source": []
  }
 ],
 "metadata": {
  "kernelspec": {
   "display_name": "Python 3 (ipykernel)",
   "language": "python",
   "name": "python3"
  },
  "language_info": {
   "codemirror_mode": {
    "name": "ipython",
    "version": 3
   },
   "file_extension": ".py",
   "mimetype": "text/x-python",
   "name": "python",
   "nbconvert_exporter": "python",
   "pygments_lexer": "ipython3",
   "version": "3.10.9"
  }
 },
 "nbformat": 4,
 "nbformat_minor": 5
}
