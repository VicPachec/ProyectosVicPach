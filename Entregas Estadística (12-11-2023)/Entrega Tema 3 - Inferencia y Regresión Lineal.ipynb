{
 "cells": [
  {
   "cell_type": "markdown",
   "id": "9de76b81-9039-458e-9657-22f9ec5ba5ee",
   "metadata": {},
   "source": [
    "# Determinación de la Inferencia y Regresión lineal - Modelo load.wine()\n",
    "Se cargan las librerías respectivas en Python antes de inicializar los procedimientos (librerías **Scikit-learn y NumPy**) y el dataset respectivo."
   ]
  },
  {
   "cell_type": "code",
   "execution_count": 9,
   "id": "fe32f841-e9ea-4e66-b772-a06dd3dc0822",
   "metadata": {},
   "outputs": [],
   "source": [
    "import numpy as np\n",
    "from scipy import stats\n",
    "from sklearn.datasets import load_wine\n",
    "\n",
    "vino = load_wine()\n",
    "alcohol = vino.data[:,0]"
   ]
  },
  {
   "cell_type": "markdown",
   "id": "d07071e6-adb8-45db-a87e-33ccd3ec1667",
   "metadata": {},
   "source": [
    "Como datos a utilizar, se selecciona la muestra y se establece **una semilla para reproducibilidad** (utilizando la librería NumPy)"
   ]
  },
  {
   "cell_type": "code",
   "execution_count": 10,
   "id": "074fad4f-2677-419f-8e92-464c332e2073",
   "metadata": {},
   "outputs": [],
   "source": [
    "np.random.seed(42)\n",
    "sample = np.random.choice(alcohol, size=100)"
   ]
  },
  {
   "cell_type": "markdown",
   "id": "37320cf0-ef80-41ac-a5b8-27965fef0ff8",
   "metadata": {},
   "source": [
    "Se define la media hipotética (H0) y el nivel de significancia definido (error del 10%)"
   ]
  },
  {
   "cell_type": "code",
   "execution_count": 11,
   "id": "4b5ba828-66c1-40dd-85d4-402787f76aa8",
   "metadata": {},
   "outputs": [],
   "source": [
    "mu_hipotetica = 11  # Media hipotética bajo H0\n",
    "nivel_significancia = 0.1  # 10% de error"
   ]
  },
  {
   "cell_type": "markdown",
   "id": "3932db43-b2cd-4f41-bdb5-24e59032f250",
   "metadata": {},
   "source": [
    "Se realiza la prueba de la muestra, y **se compara el valor p con el porcentaje de error** para determinar si se rechaza o no la hipótesis nula. Debido a que es una prueba de dos colas, el nivel de significancia (error) **se divide entre dos** para realizar la comparativa."
   ]
  },
  {
   "cell_type": "code",
   "execution_count": 12,
   "id": "517f8013-85bf-4732-ac29-a3f578fdfbb6",
   "metadata": {},
   "outputs": [
    {
     "name": "stdout",
     "output_type": "stream",
     "text": [
      "Se rechaza la hipótesis nula, al ser p menor al valor del error.\n"
     ]
    }
   ],
   "source": [
    "t_statistic, p_value = stats.ttest_1samp(sample, mu_hipotetica)\n",
    "if p_value < nivel_significancia / 2: \n",
    "    print(\"Se rechaza la hipótesis nula, al ser p menor al valor del error.\")\n",
    "else:\n",
    "    print(\"No existe suficiente evidencia para rechazar la hipótesis nula.\")"
   ]
  },
  {
   "cell_type": "markdown",
   "id": "3a7c18d5-9d5d-4de5-961e-7a6e90524297",
   "metadata": {},
   "source": [
    "Debido a que el valor de P es menor que el valor del error, **se rechaza la hipótesis** de media de alcohol es de 11.\n",
    "\n",
    "Ahora, para utilizar el valor de desviación típica proporcionado de 8, se puede obtener el intervalo de confianza donde la mayoría de los valores de nuestra muestra se encontrarán, eso se usará utilizando el valor de error (nivel de signficancia), los grados de libertad, y el **uso de la función t.interval de Scikit-learn**."
   ]
  },
  {
   "cell_type": "code",
   "execution_count": 14,
   "id": "bf6e5f4a-d6fc-47eb-beff-2cbf5a3c5f0d",
   "metadata": {},
   "outputs": [
    {
     "name": "stdout",
     "output_type": "stream",
     "text": [
      "Intervalo de confianza del 90.0%: (11.679587075202885, 14.33621292479711)\n"
     ]
    }
   ],
   "source": [
    "desviacion_tipica_conocida = 8\n",
    "grados_libertad = len(sample) - 1\n",
    "conf_int = stats.t.interval(1 - nivel_significancia, grados_libertad, loc=np.mean(sample),\n",
    "                            scale=desviacion_tipica_conocida / np.sqrt(len(sample)))\n",
    "\n",
    "print(f'Intervalo de confianza del {100*(1-nivel_significancia)}%: {conf_int}')"
   ]
  },
  {
   "cell_type": "markdown",
   "id": "968542a6-86b9-4e98-92c6-2b66c5530803",
   "metadata": {},
   "source": [
    "Con este resultado, se puede deducir que para mejorar la hipótesis, se puede **definir un intervalo de valores** entre 11.67 y 14.33 grados de alcohol que puede tener el vino."
   ]
  }
 ],
 "metadata": {
  "kernelspec": {
   "display_name": "Python 3 (ipykernel)",
   "language": "python",
   "name": "python3"
  },
  "language_info": {
   "codemirror_mode": {
    "name": "ipython",
    "version": 3
   },
   "file_extension": ".py",
   "mimetype": "text/x-python",
   "name": "python",
   "nbconvert_exporter": "python",
   "pygments_lexer": "ipython3",
   "version": "3.10.9"
  }
 },
 "nbformat": 4,
 "nbformat_minor": 5
}
