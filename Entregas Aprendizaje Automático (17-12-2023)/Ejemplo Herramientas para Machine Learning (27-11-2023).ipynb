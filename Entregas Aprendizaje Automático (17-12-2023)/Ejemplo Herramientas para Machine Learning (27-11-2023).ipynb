{
 "cells": [
  {
   "cell_type": "markdown",
   "id": "64df1b7e-1621-467c-93d2-da6739e52a48",
   "metadata": {},
   "source": [
    "# Herramientas para Machine Learning - Ejemplo (dataset House Information)\n",
    "En el primer caso se cargan librerías, así como el dataset a evaluar (**House Dataset.csv**). La función head muestra las primeras filas del dataset."
   ]
  },
  {
   "cell_type": "code",
   "execution_count": 9,
   "id": "434dc503-0447-42d3-8e99-d876c4276fba",
   "metadata": {},
   "outputs": [
    {
     "data": {
      "text/html": [
       "<div>\n",
       "<style scoped>\n",
       "    .dataframe tbody tr th:only-of-type {\n",
       "        vertical-align: middle;\n",
       "    }\n",
       "\n",
       "    .dataframe tbody tr th {\n",
       "        vertical-align: top;\n",
       "    }\n",
       "\n",
       "    .dataframe thead th {\n",
       "        text-align: right;\n",
       "    }\n",
       "</style>\n",
       "<table border=\"1\" class=\"dataframe\">\n",
       "  <thead>\n",
       "    <tr style=\"text-align: right;\">\n",
       "      <th></th>\n",
       "      <th>SquareFeet</th>\n",
       "      <th>Bedrooms</th>\n",
       "      <th>Bathrooms</th>\n",
       "      <th>YearBuilt</th>\n",
       "      <th>Price</th>\n",
       "    </tr>\n",
       "  </thead>\n",
       "  <tbody>\n",
       "    <tr>\n",
       "      <th>0</th>\n",
       "      <td>2126</td>\n",
       "      <td>4</td>\n",
       "      <td>1</td>\n",
       "      <td>1969</td>\n",
       "      <td>215355.283618</td>\n",
       "    </tr>\n",
       "    <tr>\n",
       "      <th>1</th>\n",
       "      <td>2459</td>\n",
       "      <td>3</td>\n",
       "      <td>2</td>\n",
       "      <td>1980</td>\n",
       "      <td>195014.221626</td>\n",
       "    </tr>\n",
       "    <tr>\n",
       "      <th>2</th>\n",
       "      <td>1860</td>\n",
       "      <td>2</td>\n",
       "      <td>1</td>\n",
       "      <td>1970</td>\n",
       "      <td>306891.012076</td>\n",
       "    </tr>\n",
       "    <tr>\n",
       "      <th>3</th>\n",
       "      <td>2294</td>\n",
       "      <td>2</td>\n",
       "      <td>1</td>\n",
       "      <td>1996</td>\n",
       "      <td>206786.787153</td>\n",
       "    </tr>\n",
       "    <tr>\n",
       "      <th>4</th>\n",
       "      <td>2130</td>\n",
       "      <td>5</td>\n",
       "      <td>2</td>\n",
       "      <td>2001</td>\n",
       "      <td>272436.239065</td>\n",
       "    </tr>\n",
       "  </tbody>\n",
       "</table>\n",
       "</div>"
      ],
      "text/plain": [
       "   SquareFeet  Bedrooms  Bathrooms  YearBuilt          Price\n",
       "0        2126         4          1       1969  215355.283618\n",
       "1        2459         3          2       1980  195014.221626\n",
       "2        1860         2          1       1970  306891.012076\n",
       "3        2294         2          1       1996  206786.787153\n",
       "4        2130         5          2       2001  272436.239065"
      ]
     },
     "execution_count": 9,
     "metadata": {},
     "output_type": "execute_result"
    }
   ],
   "source": [
    "import numpy as np\n",
    "import pandas as pd\n",
    "import matplotlib.pyplot as plt\n",
    "\n",
    "from sklearn.model_selection import GridSearchCV\n",
    "from sklearn.model_selection import RandomizedSearchCV\n",
    "from sklearn.preprocessing import StandardScaler\n",
    "from sklearn.metrics import roc_auc_score\n",
    "from sklearn.metrics import accuracy_score\n",
    "\n",
    "#Clasificación\n",
    "from xgboost import XGBClassifier\n",
    "\n",
    "#Regresión\n",
    "from xgboost import XGBRegressor\n",
    "from xgboost import plot_importance\n",
    "from matplotlib import pyplot\n",
    "\n",
    "from sklearn.pipeline import Pipeline\n",
    "\n",
    "#Desactivar los warnings\n",
    "import warnings\n",
    "warnings.filterwarnings(\"ignore\")\n",
    "\n",
    "df = pd.read_csv('HouseDataset.csv')\n",
    "df.head()"
   ]
  },
  {
   "cell_type": "markdown",
   "id": "95eb68d3-e72e-496a-8ca6-9911594f21bd",
   "metadata": {},
   "source": [
    "Se coloca la función \"**describe**\" de Pandas para mostrar diversos ṕarámetros estadísticos de interés de cada columna numérica."
   ]
  },
  {
   "cell_type": "code",
   "execution_count": 10,
   "id": "3c260dbe-e4d9-4a5b-867b-fa5d166c7222",
   "metadata": {},
   "outputs": [
    {
     "data": {
      "text/html": [
       "<div>\n",
       "<style scoped>\n",
       "    .dataframe tbody tr th:only-of-type {\n",
       "        vertical-align: middle;\n",
       "    }\n",
       "\n",
       "    .dataframe tbody tr th {\n",
       "        vertical-align: top;\n",
       "    }\n",
       "\n",
       "    .dataframe thead th {\n",
       "        text-align: right;\n",
       "    }\n",
       "</style>\n",
       "<table border=\"1\" class=\"dataframe\">\n",
       "  <thead>\n",
       "    <tr style=\"text-align: right;\">\n",
       "      <th></th>\n",
       "      <th>count</th>\n",
       "      <th>mean</th>\n",
       "      <th>std</th>\n",
       "      <th>min</th>\n",
       "      <th>25%</th>\n",
       "      <th>50%</th>\n",
       "      <th>75%</th>\n",
       "      <th>max</th>\n",
       "    </tr>\n",
       "  </thead>\n",
       "  <tbody>\n",
       "    <tr>\n",
       "      <th>SquareFeet</th>\n",
       "      <td>50000.0</td>\n",
       "      <td>2006.374680</td>\n",
       "      <td>575.513241</td>\n",
       "      <td>1000.000000</td>\n",
       "      <td>1513.000000</td>\n",
       "      <td>2007.000000</td>\n",
       "      <td>2506.000000</td>\n",
       "      <td>2999.000000</td>\n",
       "    </tr>\n",
       "    <tr>\n",
       "      <th>Bedrooms</th>\n",
       "      <td>50000.0</td>\n",
       "      <td>3.498700</td>\n",
       "      <td>1.116326</td>\n",
       "      <td>2.000000</td>\n",
       "      <td>3.000000</td>\n",
       "      <td>3.000000</td>\n",
       "      <td>4.000000</td>\n",
       "      <td>5.000000</td>\n",
       "    </tr>\n",
       "    <tr>\n",
       "      <th>Bathrooms</th>\n",
       "      <td>50000.0</td>\n",
       "      <td>1.995420</td>\n",
       "      <td>0.815851</td>\n",
       "      <td>1.000000</td>\n",
       "      <td>1.000000</td>\n",
       "      <td>2.000000</td>\n",
       "      <td>3.000000</td>\n",
       "      <td>3.000000</td>\n",
       "    </tr>\n",
       "    <tr>\n",
       "      <th>YearBuilt</th>\n",
       "      <td>50000.0</td>\n",
       "      <td>1985.404420</td>\n",
       "      <td>20.719377</td>\n",
       "      <td>1950.000000</td>\n",
       "      <td>1967.000000</td>\n",
       "      <td>1985.000000</td>\n",
       "      <td>2003.000000</td>\n",
       "      <td>2021.000000</td>\n",
       "    </tr>\n",
       "    <tr>\n",
       "      <th>Price</th>\n",
       "      <td>50000.0</td>\n",
       "      <td>224827.325151</td>\n",
       "      <td>76141.842966</td>\n",
       "      <td>-36588.165397</td>\n",
       "      <td>169955.860225</td>\n",
       "      <td>225052.141166</td>\n",
       "      <td>279373.630052</td>\n",
       "      <td>492195.259972</td>\n",
       "    </tr>\n",
       "  </tbody>\n",
       "</table>\n",
       "</div>"
      ],
      "text/plain": [
       "              count           mean           std           min            25%  \\\n",
       "SquareFeet  50000.0    2006.374680    575.513241   1000.000000    1513.000000   \n",
       "Bedrooms    50000.0       3.498700      1.116326      2.000000       3.000000   \n",
       "Bathrooms   50000.0       1.995420      0.815851      1.000000       1.000000   \n",
       "YearBuilt   50000.0    1985.404420     20.719377   1950.000000    1967.000000   \n",
       "Price       50000.0  224827.325151  76141.842966 -36588.165397  169955.860225   \n",
       "\n",
       "                      50%            75%            max  \n",
       "SquareFeet    2007.000000    2506.000000    2999.000000  \n",
       "Bedrooms         3.000000       4.000000       5.000000  \n",
       "Bathrooms        2.000000       3.000000       3.000000  \n",
       "YearBuilt     1985.000000    2003.000000    2021.000000  \n",
       "Price       225052.141166  279373.630052  492195.259972  "
      ]
     },
     "execution_count": 10,
     "metadata": {},
     "output_type": "execute_result"
    }
   ],
   "source": [
    "df.describe().T"
   ]
  },
  {
   "cell_type": "markdown",
   "id": "8c168275-373c-4dc8-a74d-bff3b388a921",
   "metadata": {},
   "source": [
    "### Separar predictoras y target\n",
    "Se realizarán tres diferentes df (de dicha variable):\n",
    "\n",
    "- Val: Se utilizará para validar el modelo que se está creando.\n",
    "- Train: Se utilizará para entrenar dicho modelo.\n",
    "- Test: Se utilizará para validar en el entrenamiento del modelo."
   ]
  },
  {
   "cell_type": "code",
   "execution_count": 11,
   "id": "2c2c5d45-2126-4db4-9b37-0ba73b2cf19d",
   "metadata": {},
   "outputs": [
    {
     "name": "stdout",
     "output_type": "stream",
     "text": [
      "(1500, 4)\n"
     ]
    }
   ],
   "source": [
    "# df con 1500 obs que splitearemos en Train y Test\n",
    "\n",
    "X = df[0:1500].drop(columns = 'SquareFeet')\n",
    "y = df['SquareFeet'][0:1500]\n",
    "\n",
    "# Val: generamos un df con 250 obs para validar el modelo final\n",
    "\n",
    "Val_x = df[1000:1250].drop(columns = 'SquareFeet')\n",
    "Val_y = df['SquareFeet'][1000:1250]\n",
    "\n",
    "print(X.shape)"
   ]
  },
  {
   "cell_type": "code",
   "execution_count": 12,
   "id": "966414b2-1a0a-4017-b85b-b1537976521a",
   "metadata": {},
   "outputs": [
    {
     "name": "stdout",
     "output_type": "stream",
     "text": [
      "(250, 4)\n"
     ]
    }
   ],
   "source": [
    "print(Val_x.shape)"
   ]
  },
  {
   "cell_type": "markdown",
   "id": "f279e3af-a596-41c7-9837-f0230faf9067",
   "metadata": {},
   "source": [
    "Se realiza el escalado respectivo del modelo df al tamaño de la muestra que seleccionamos:"
   ]
  },
  {
   "cell_type": "code",
   "execution_count": 13,
   "id": "3cd210ac-0180-4774-af9c-e2a2d19fe356",
   "metadata": {},
   "outputs": [
    {
     "data": {
      "text/html": [
       "<div>\n",
       "<style scoped>\n",
       "    .dataframe tbody tr th:only-of-type {\n",
       "        vertical-align: middle;\n",
       "    }\n",
       "\n",
       "    .dataframe tbody tr th {\n",
       "        vertical-align: top;\n",
       "    }\n",
       "\n",
       "    .dataframe thead th {\n",
       "        text-align: right;\n",
       "    }\n",
       "</style>\n",
       "<table border=\"1\" class=\"dataframe\">\n",
       "  <thead>\n",
       "    <tr style=\"text-align: right;\">\n",
       "      <th></th>\n",
       "      <th>count</th>\n",
       "      <th>mean</th>\n",
       "      <th>std</th>\n",
       "      <th>min</th>\n",
       "      <th>25%</th>\n",
       "      <th>50%</th>\n",
       "      <th>75%</th>\n",
       "      <th>max</th>\n",
       "    </tr>\n",
       "  </thead>\n",
       "  <tbody>\n",
       "    <tr>\n",
       "      <th>0</th>\n",
       "      <td>1500.0</td>\n",
       "      <td>-1.219765e-16</td>\n",
       "      <td>1.000334</td>\n",
       "      <td>-1.380805</td>\n",
       "      <td>-0.471583</td>\n",
       "      <td>0.437639</td>\n",
       "      <td>0.437639</td>\n",
       "      <td>1.346861</td>\n",
       "    </tr>\n",
       "    <tr>\n",
       "      <th>1</th>\n",
       "      <td>1500.0</td>\n",
       "      <td>-1.065814e-16</td>\n",
       "      <td>1.000334</td>\n",
       "      <td>-1.231986</td>\n",
       "      <td>-1.231986</td>\n",
       "      <td>-0.013806</td>\n",
       "      <td>1.204374</td>\n",
       "      <td>1.204374</td>\n",
       "    </tr>\n",
       "    <tr>\n",
       "      <th>2</th>\n",
       "      <td>1500.0</td>\n",
       "      <td>-4.838796e-15</td>\n",
       "      <td>1.000334</td>\n",
       "      <td>-1.716098</td>\n",
       "      <td>-0.851791</td>\n",
       "      <td>0.012516</td>\n",
       "      <td>0.828806</td>\n",
       "      <td>1.693114</td>\n",
       "    </tr>\n",
       "    <tr>\n",
       "      <th>3</th>\n",
       "      <td>1500.0</td>\n",
       "      <td>1.196080e-16</td>\n",
       "      <td>1.000334</td>\n",
       "      <td>-3.291711</td>\n",
       "      <td>-0.691574</td>\n",
       "      <td>0.014514</td>\n",
       "      <td>0.675296</td>\n",
       "      <td>2.668747</td>\n",
       "    </tr>\n",
       "  </tbody>\n",
       "</table>\n",
       "</div>"
      ],
      "text/plain": [
       "    count          mean       std       min       25%       50%       75%  \\\n",
       "0  1500.0 -1.219765e-16  1.000334 -1.380805 -0.471583  0.437639  0.437639   \n",
       "1  1500.0 -1.065814e-16  1.000334 -1.231986 -1.231986 -0.013806  1.204374   \n",
       "2  1500.0 -4.838796e-15  1.000334 -1.716098 -0.851791  0.012516  0.828806   \n",
       "3  1500.0  1.196080e-16  1.000334 -3.291711 -0.691574  0.014514  0.675296   \n",
       "\n",
       "        max  \n",
       "0  1.346861  \n",
       "1  1.204374  \n",
       "2  1.693114  \n",
       "3  2.668747  "
      ]
     },
     "execution_count": 13,
     "metadata": {},
     "output_type": "execute_result"
    }
   ],
   "source": [
    "mms = StandardScaler()\n",
    "X_mms = mms.fit_transform(X)\n",
    "\n",
    "pd.DataFrame(X_mms).describe().T"
   ]
  },
  {
   "cell_type": "markdown",
   "id": "0ed2d8c1-caa7-47d2-819b-a21aa10d8031",
   "metadata": {},
   "source": [
    "Se separan el **train** y el **test**:"
   ]
  },
  {
   "cell_type": "code",
   "execution_count": 19,
   "id": "94989e78-2c3f-4bc0-b0ff-0c2cbb8bdb26",
   "metadata": {},
   "outputs": [
    {
     "name": "stdout",
     "output_type": "stream",
     "text": [
      "(750, 4)\n",
      "(750, 4)\n"
     ]
    }
   ],
   "source": [
    "from sklearn.model_selection import train_test_split\n",
    "from sklearn.preprocessing import LabelEncoder\n",
    "le = LabelEncoder()\n",
    "\n",
    "train_x,test_x,train_y,test_y = train_test_split(X_mms,y,test_size=0.5,random_state=5567)\n",
    "\n",
    "print(train_x.shape)\n",
    "print(test_x.shape)"
   ]
  },
  {
   "cell_type": "markdown",
   "id": "86014b40-2cd8-4e16-ab22-bc427512286b",
   "metadata": {},
   "source": [
    "Se entrena el modelo:"
   ]
  },
  {
   "cell_type": "code",
   "execution_count": 22,
   "id": "bd219cd2-5d3b-4e2b-9c8d-ebfa866a86a4",
   "metadata": {},
   "outputs": [
    {
     "name": "stdout",
     "output_type": "stream",
     "text": [
      "[0]\tvalidation_0-auc:0.56661\n",
      "[1]\tvalidation_0-auc:0.57459\n",
      "[2]\tvalidation_0-auc:0.59266\n",
      "[3]\tvalidation_0-auc:0.60276\n",
      "[4]\tvalidation_0-auc:0.60942\n",
      "[5]\tvalidation_0-auc:0.60481\n",
      "[6]\tvalidation_0-auc:0.61160\n",
      "[7]\tvalidation_0-auc:0.61391\n",
      "[8]\tvalidation_0-auc:0.61472\n",
      "[9]\tvalidation_0-auc:0.61164\n",
      "[10]\tvalidation_0-auc:0.61585\n",
      "[11]\tvalidation_0-auc:0.61489\n",
      "[12]\tvalidation_0-auc:0.61690\n",
      "[13]\tvalidation_0-auc:0.61812\n",
      "[14]\tvalidation_0-auc:0.61895\n",
      "[15]\tvalidation_0-auc:0.61810\n",
      "[16]\tvalidation_0-auc:0.61821\n",
      "[17]\tvalidation_0-auc:0.61757\n"
     ]
    },
    {
     "data": {
      "text/html": [
       "<style>#sk-container-id-3 {color: black;}#sk-container-id-3 pre{padding: 0;}#sk-container-id-3 div.sk-toggleable {background-color: white;}#sk-container-id-3 label.sk-toggleable__label {cursor: pointer;display: block;width: 100%;margin-bottom: 0;padding: 0.3em;box-sizing: border-box;text-align: center;}#sk-container-id-3 label.sk-toggleable__label-arrow:before {content: \"▸\";float: left;margin-right: 0.25em;color: #696969;}#sk-container-id-3 label.sk-toggleable__label-arrow:hover:before {color: black;}#sk-container-id-3 div.sk-estimator:hover label.sk-toggleable__label-arrow:before {color: black;}#sk-container-id-3 div.sk-toggleable__content {max-height: 0;max-width: 0;overflow: hidden;text-align: left;background-color: #f0f8ff;}#sk-container-id-3 div.sk-toggleable__content pre {margin: 0.2em;color: black;border-radius: 0.25em;background-color: #f0f8ff;}#sk-container-id-3 input.sk-toggleable__control:checked~div.sk-toggleable__content {max-height: 200px;max-width: 100%;overflow: auto;}#sk-container-id-3 input.sk-toggleable__control:checked~label.sk-toggleable__label-arrow:before {content: \"▾\";}#sk-container-id-3 div.sk-estimator input.sk-toggleable__control:checked~label.sk-toggleable__label {background-color: #d4ebff;}#sk-container-id-3 div.sk-label input.sk-toggleable__control:checked~label.sk-toggleable__label {background-color: #d4ebff;}#sk-container-id-3 input.sk-hidden--visually {border: 0;clip: rect(1px 1px 1px 1px);clip: rect(1px, 1px, 1px, 1px);height: 1px;margin: -1px;overflow: hidden;padding: 0;position: absolute;width: 1px;}#sk-container-id-3 div.sk-estimator {font-family: monospace;background-color: #f0f8ff;border: 1px dotted black;border-radius: 0.25em;box-sizing: border-box;margin-bottom: 0.5em;}#sk-container-id-3 div.sk-estimator:hover {background-color: #d4ebff;}#sk-container-id-3 div.sk-parallel-item::after {content: \"\";width: 100%;border-bottom: 1px solid gray;flex-grow: 1;}#sk-container-id-3 div.sk-label:hover label.sk-toggleable__label {background-color: #d4ebff;}#sk-container-id-3 div.sk-serial::before {content: \"\";position: absolute;border-left: 1px solid gray;box-sizing: border-box;top: 0;bottom: 0;left: 50%;z-index: 0;}#sk-container-id-3 div.sk-serial {display: flex;flex-direction: column;align-items: center;background-color: white;padding-right: 0.2em;padding-left: 0.2em;position: relative;}#sk-container-id-3 div.sk-item {position: relative;z-index: 1;}#sk-container-id-3 div.sk-parallel {display: flex;align-items: stretch;justify-content: center;background-color: white;position: relative;}#sk-container-id-3 div.sk-item::before, #sk-container-id-3 div.sk-parallel-item::before {content: \"\";position: absolute;border-left: 1px solid gray;box-sizing: border-box;top: 0;bottom: 0;left: 50%;z-index: -1;}#sk-container-id-3 div.sk-parallel-item {display: flex;flex-direction: column;z-index: 1;position: relative;background-color: white;}#sk-container-id-3 div.sk-parallel-item:first-child::after {align-self: flex-end;width: 50%;}#sk-container-id-3 div.sk-parallel-item:last-child::after {align-self: flex-start;width: 50%;}#sk-container-id-3 div.sk-parallel-item:only-child::after {width: 0;}#sk-container-id-3 div.sk-dashed-wrapped {border: 1px dashed gray;margin: 0 0.4em 0.5em 0.4em;box-sizing: border-box;padding-bottom: 0.4em;background-color: white;}#sk-container-id-3 div.sk-label label {font-family: monospace;font-weight: bold;display: inline-block;line-height: 1.2em;}#sk-container-id-3 div.sk-label-container {text-align: center;}#sk-container-id-3 div.sk-container {/* jupyter's `normalize.less` sets `[hidden] { display: none; }` but bootstrap.min.css set `[hidden] { display: none !important; }` so we also need the `!important` here to be able to override the default hidden behavior on the sphinx rendered scikit-learn.org. See: https://github.com/scikit-learn/scikit-learn/issues/21755 */display: inline-block !important;position: relative;}#sk-container-id-3 div.sk-text-repr-fallback {display: none;}</style><div id=\"sk-container-id-3\" class=\"sk-top-container\"><div class=\"sk-text-repr-fallback\"><pre>XGBClassifier(base_score=None, booster=None, callbacks=None,\n",
       "              colsample_bylevel=None, colsample_bynode=None,\n",
       "              colsample_bytree=None, device=None, early_stopping_rounds=None,\n",
       "              enable_categorical=False, eval_metric=None, feature_types=None,\n",
       "              gamma=None, grow_policy=None, importance_type=None,\n",
       "              interaction_constraints=None, learning_rate=None, max_bin=None,\n",
       "              max_cat_threshold=None, max_cat_to_onehot=None,\n",
       "              max_delta_step=None, max_depth=None, max_leaves=None,\n",
       "              min_child_weight=None, missing=nan, monotone_constraints=None,\n",
       "              multi_strategy=None, n_estimators=None, n_jobs=None,\n",
       "              num_parallel_tree=None, objective=&#x27;multi:softprob&#x27;, ...)</pre><b>In a Jupyter environment, please rerun this cell to show the HTML representation or trust the notebook. <br />On GitHub, the HTML representation is unable to render, please try loading this page with nbviewer.org.</b></div><div class=\"sk-container\" hidden><div class=\"sk-item\"><div class=\"sk-estimator sk-toggleable\"><input class=\"sk-toggleable__control sk-hidden--visually\" id=\"sk-estimator-id-3\" type=\"checkbox\" checked><label for=\"sk-estimator-id-3\" class=\"sk-toggleable__label sk-toggleable__label-arrow\">XGBClassifier</label><div class=\"sk-toggleable__content\"><pre>XGBClassifier(base_score=None, booster=None, callbacks=None,\n",
       "              colsample_bylevel=None, colsample_bynode=None,\n",
       "              colsample_bytree=None, device=None, early_stopping_rounds=None,\n",
       "              enable_categorical=False, eval_metric=None, feature_types=None,\n",
       "              gamma=None, grow_policy=None, importance_type=None,\n",
       "              interaction_constraints=None, learning_rate=None, max_bin=None,\n",
       "              max_cat_threshold=None, max_cat_to_onehot=None,\n",
       "              max_delta_step=None, max_depth=None, max_leaves=None,\n",
       "              min_child_weight=None, missing=nan, monotone_constraints=None,\n",
       "              multi_strategy=None, n_estimators=None, n_jobs=None,\n",
       "              num_parallel_tree=None, objective=&#x27;multi:softprob&#x27;, ...)</pre></div></div></div></div></div>"
      ],
      "text/plain": [
       "XGBClassifier(base_score=None, booster=None, callbacks=None,\n",
       "              colsample_bylevel=None, colsample_bynode=None,\n",
       "              colsample_bytree=None, device=None, early_stopping_rounds=None,\n",
       "              enable_categorical=False, eval_metric=None, feature_types=None,\n",
       "              gamma=None, grow_policy=None, importance_type=None,\n",
       "              interaction_constraints=None, learning_rate=None, max_bin=None,\n",
       "              max_cat_threshold=None, max_cat_to_onehot=None,\n",
       "              max_delta_step=None, max_depth=None, max_leaves=None,\n",
       "              min_child_weight=None, missing=nan, monotone_constraints=None,\n",
       "              multi_strategy=None, n_estimators=None, n_jobs=None,\n",
       "              num_parallel_tree=None, objective='multi:softprob', ...)"
      ]
     },
     "execution_count": 22,
     "metadata": {},
     "output_type": "execute_result"
    }
   ],
   "source": [
    "#Instanciar\n",
    "xgb = XGBClassifier(use_label_encoder=False) #lo del encoder es para que no de warning\n",
    "train_y = le.fit_transform(train_y)\n",
    "test_y = le.fit_transform(test_y)\n",
    "\n",
    "#Entrenar\n",
    "xgb.fit(train_x,train_y,\n",
    "        early_stopping_rounds = 4, # num iteraciones sin mejora en la métrica, después para.\n",
    "        eval_set=[(test_x, test_y)], # df test para evaluar\n",
    "        eval_metric = 'auc') # métrica evaluación"
   ]
  },
  {
   "cell_type": "code",
   "execution_count": null,
   "id": "b0ff0993-af42-4dfe-beff-e040ebbd18e1",
   "metadata": {},
   "outputs": [],
   "source": []
  }
 ],
 "metadata": {
  "kernelspec": {
   "display_name": "Python 3 (ipykernel)",
   "language": "python",
   "name": "python3"
  },
  "language_info": {
   "codemirror_mode": {
    "name": "ipython",
    "version": 3
   },
   "file_extension": ".py",
   "mimetype": "text/x-python",
   "name": "python",
   "nbconvert_exporter": "python",
   "pygments_lexer": "ipython3",
   "version": "3.10.13"
  }
 },
 "nbformat": 4,
 "nbformat_minor": 5
}
