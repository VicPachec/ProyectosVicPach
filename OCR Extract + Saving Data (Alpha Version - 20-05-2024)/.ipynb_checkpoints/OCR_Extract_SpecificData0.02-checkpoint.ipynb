{
 "cells": [
  {
   "cell_type": "markdown",
   "metadata": {},
   "source": [
    "# OCR Extract Software + Excel creation of data - Jupyter Notebook (Google Colab)\n",
    "### *Extraction of real-life PDF scanned documents and addition of selected info into an XLSX (Excel) file*\n",
    "Code made by: ***Victor Hugo Pacheco Padilla***\n",
    "* The present code is intended to OCR scanned PDFs from variable quality (from good to bad quality), save those files onto a separate folder, and use those new files to extract selected data, and save this info onto an Excel file.\n",
    "\n",
    "* The code has been tested on both Google Colab platform and Jupyter Lab platform (using in both cases Ubuntu Linux 22.04 LTS - Jammy Jellyfish), but it can be easily adapted to run on Windows or Mac systems, cloud platforms, among others.\n",
    "\n",
    "* The codes makes use of multiple libraries seen below, to achieve the desired goal for the code."
   ]
  },
  {
   "cell_type": "markdown",
   "metadata": {},
   "source": [
    "# Prerequisites"
   ]
  },
  {
   "cell_type": "markdown",
   "metadata": {},
   "source": [
    "1. **You must install some necessary libraries**, in order to use the TesseractOCR library with the OCRMyPDF library, including the ghostscript library (which might be already installed). The process below allows the installation of the necessary libraries in Ubuntu Linux, and will work with other Debian-based and Ubuntu-based distros. Depending on your OS and package manager, this process will have some differences."
   ]
  },
  {
   "cell_type": "code",
   "execution_count": null,
   "metadata": {
    "colab": {
     "base_uri": "https://localhost:8080/"
    },
    "id": "HhDLJb48O6fw",
    "jp-MarkdownHeadingCollapsed": true,
    "outputId": "e70ce226-e1d4-4340-c5ad-1395831102bd"
   },
   "outputs": [],
   "source": [
    "!sudo apt-get install tesseract-ocr tesseract-ocr-spa ghostscript ocrmypdf"
   ]
  },
  {
   "cell_type": "markdown",
   "metadata": {},
   "source": [
    "2. **Install the necessary libraries inside Python**. If you use virtual environments or other package manager (such as Conda) the steps may vary."
   ]
  },
  {
   "cell_type": "code",
   "execution_count": null,
   "metadata": {
    "colab": {
     "base_uri": "https://localhost:8080/"
    },
    "id": "DQ3h26SHV8WM",
    "outputId": "1d686f7f-7643-4eaf-b283-7a7a7306760b"
   },
   "outputs": [],
   "source": [
    "pip install pytesseract pypdf2 xlsxwriter"
   ]
  },
  {
   "cell_type": "markdown",
   "metadata": {},
   "source": [
    "3. Once installed, **import the desired libraries to be used into our environment**. Most of these libraries are Python basics, but if you lack some of these, you should install them in order to run these code. Some of the libraries to be used are:\n",
    "- PyTesseract: Implementation of Tesseract algorithm inside Python, it is a reliable and tested OCR algorithm which allows us to transcript text from real-life scanned PDFs (and images) with a good grade of precision.\n",
    "- OCRMyPDF: An implementation of Tesseract focused to make and optimize OCR capability to PDFs, using PyTesseract, adding a layer to already scanned PDFs to make them search readable, and an essencial step to make our code work.\n",
    "- Pandas: Needed to work with OpenPYXL, in order to save our data to a XLSX file.\n",
    "- Google Colab - Drive connection (optional): Needed to work with Google Drive files inside Colad. This library **DOES NOT WORK** outside Google Colab.\n",
    "- os: Needed to work with files inside the OS and make operations with those files, if desired.\n",
    "- re: Needed to find text inside OCR'd PDFs, using different parameters to find information.\n",
    "- PyPDF2: Used to retrieve text from OCR'd PDFs and extract found strings to Excel file."
   ]
  },
  {
   "cell_type": "code",
   "execution_count": 3,
   "metadata": {
    "id": "5w5sMpTyorIg"
   },
   "outputs": [],
   "source": [
    "import pytesseract\n",
    "import ocrmypdf\n",
    "import pandas as pd\n",
    "import os\n",
    "#from google.colab import drive\n",
    "import openpyxl\n",
    "import PyPDF2\n",
    "import re"
   ]
  },
  {
   "cell_type": "markdown",
   "metadata": {},
   "source": [
    "# Main code"
   ]
  },
  {
   "cell_type": "markdown",
   "metadata": {},
   "source": [
    "1. *(optional)* Mount the Google Drive drive onto your Google Colab session. This step is only done to retrieve files from Google Drive drive inside Colab, and, as menctioned above, **does not work** on local Jupyter Lab / Python sessions."
   ]
  },
  {
   "cell_type": "code",
   "execution_count": null,
   "metadata": {
    "colab": {
     "base_uri": "https://localhost:8080/"
    },
    "id": "DPop8Y5wHp10",
    "outputId": "3fd1b059-3d64-478a-f2d0-0c19011b48a6"
   },
   "outputs": [
    {
     "name": "stdout",
     "output_type": "stream",
     "text": [
      "Drive already mounted at /content/drive; to attempt to forcibly remount, call drive.mount(\"/content/drive\", force_remount=True).\n"
     ]
    }
   ],
   "source": [
    "drive.mount('/content/drive')"
   ]
  },
  {
   "cell_type": "markdown",
   "metadata": {},
   "source": [
    "2. In order to simplify the understand of the code, we define some functions to work with the code:\n",
    "- **perform_ocr:** Wrapper for OCRMyPDF function, making OCR to every PDF detected inside the desired path (*\"pdf_folder\"*).\n",
    "- **extract_text_from_pdf:** Once the OCR process is completed, PyPDF2 allows us to parse text from created PDFs and read it on Python, in order to identify strings based on specific information.\n",
    "- **extract_string_from_pdf:** Extracts the desired string based on surrounding strings. An optional alternative approach is commented (*\"extract_string_from_pdf2\"*) to extract strings based on length rather than surrounding strings."
   ]
  },
  {
   "cell_type": "code",
   "execution_count": null,
   "metadata": {},
   "outputs": [],
   "source": [
    "def perform_ocr(pdf_file_path, output_file_path, language=\"eng\", force_ocr=False, clean=False):\n",
    "    ocrmypdf.ocr(pdf_file_path, output_file_path, language=language, force_ocr=force_ocr, clean=clean)\n",
    "\n",
    "def extract_text_from_pdf(pdf_file_path):\n",
    "    with open(pdf_file_path, 'rb') as file:\n",
    "        reader = PyPDF2.PdfReader(file)\n",
    "        text = ''\n",
    "        for page_num in range(len(reader.pages)):\n",
    "            page_text = reader.pages[page_num].extract_text()\n",
    "            if page_text:\n",
    "                text += page_text + '\\n'  # Add a newline to help separate pages\n",
    "    return text\n",
    "\n",
    "def extract_string_from_pdf(text, start_string, end_string):\n",
    "    # Allow for whitespace and newline characters in between.\n",
    "    pattern = re.compile(r\"(?<=\" + re.escape(start_string) + r\")[\\s\\S]*?(?=\" + re.escape(end_string) + r\")\", re.DOTALL)\n",
    "    match = re.search(pattern, text)\n",
    "    if match:\n",
    "        return match.group(0).replace('\\n', ' ').replace('\\r', '')  # Extracting the string between the substrings\n",
    "    else:\n",
    "        return None\n",
    "\n",
    "# Commented function, for extraction of strings based on length\n",
    "\n",
    "#def extract_string_from_pdf2(text, start_string2, string_length2):\n",
    "    # Allow for whitespace and newline characters in between.\n",
    "    #pattern2 = re.compile(re.escape(start_string2) + r'.{' + str(string_length2) + r'}')\n",
    "    #match = re.search(pattern2, text)\n",
    "    #if match:\n",
    "    #    return match.group(0).replace('\\n', ' ').replace('\\r', '')[len(start_string2):]  # Extracting the string after the start string\n",
    "    #else:\n",
    "    #    return None\n",
    "\n",
    "# Select the filepath of the PDFs (original and processed)\n",
    "# Modify the file path depending on your OS and location (default folder structure for Linux)\n",
    "pdf_folder = r\"/home/username/folder/subfolder/PDFS\"\n",
    "output_folder = r\"/home/username/folder/subfolder/PDFS_proc\"\n",
    "\n",
    "# Create a list of all PDFs detected inside the folder\n",
    "pdf_files = [os.path.join(pdf_folder, file) for file in os.listdir(pdf_folder) if file.endswith('.pdf')]\n",
    "\n",
    "# Define where the identified strings should be. Ideal for legal papers, statements, among others.\n",
    "start_string = 'Date:'\n",
    "end_string = \"FDA\"\n",
    "# string_length = 20\n",
    "\n",
    "# Define where the identified strings should be. Ideal for legal papers, statements, among others.\n",
    "start_string2 = 'Product Type:'\n",
    "end_string2 = \"Reason\"\n",
    "#string_length2 = 16\n",
    "\n",
    "# Load the existing Excel workbook and worksheet\n",
    "workbook = openpyxl.Workbook()\n",
    "worksheet = workbook.active\n",
    "\n",
    "# Add headers to the worksheet\n",
    "worksheet['A1'] = 'File Name'\n",
    "worksheet['B1'] = 'Document Date'\n",
    "worksheet['C1'] = 'Product Type'\n",
    "\n",
    "# Set the row counter\n",
    "row = 2\n",
    "\n",
    "for pdf_file in pdf_files:\n",
    "    # Starts OCR inside every PDF\n",
    "    output_file_name = os.path.basename(pdf_file).replace('.pdf', '_ocr.pdf')\n",
    "    output_file_path = os.path.join(output_folder, output_file_name)\n",
    "\n",
    "    perform_ocr(pdf_file, output_file_path, language=\"eng\")\n",
    "\n",
    "    # Extracts PDF text following the given path above\n",
    "    pdf_text = extract_text_from_pdf(output_file_path)\n",
    "\n",
    "    test = extract_string_from_pdf(pdf_text, start_string, end_string)\n",
    "\n",
    "    #if test is not None:\n",
    "    #    extracted_string = test + end_string\n",
    "    #else:\n",
    "    #    extracted_string = test\n",
    "    extracted_string = test\n",
    "\n",
    "    test2 = extract_string_from_pdf(pdf_text, start_string2, end_string2)\n",
    "\n",
    "    #if test2 is not None:\n",
    "    #    extracted_string2 = test2 + end_string2\n",
    "    #else:\n",
    "    #    extracted_string2 = test2\n",
    "    extracted_string2 = test2\n",
    "    \n",
    "    #extracted_string2 = extract_string_from_pdf2(pdf_text, start_string2, string_length2)\n",
    "\n",
    "    worksheet.cell(row=row, column=1, value=os.path.basename(pdf_file))\n",
    "    if extracted_string:\n",
    "        print(f\"The date of the document {pdf_file} is: {extracted_string}\")\n",
    "        worksheet.cell(row=row, column=2, value=extracted_string)\n",
    "    else:\n",
    "        print(f\"A date was not found for the document {pdf_file}.\")\n",
    "\n",
    "    if extracted_string2:\n",
    "        print(f\"The product type of the document {pdf_file} is: {extracted_string2}\")\n",
    "        worksheet.cell(row=row, column=3, value=extracted_string2)\n",
    "    else:\n",
    "        print(f\"A product type was not found for the document {pdf_file}.\")\n",
    "\n",
    "    row += 1\n",
    "\n",
    "# Save the workbook to a new Excel file in a desired path\n",
    "# Modify the file path depending on your OS and location (default folder structure for Linux)\n",
    "workbook.save(r\"/home/username/folder/subfolder/PDFS_proc/DocInfo.xlsx\")"
   ]
  },
  {
   "cell_type": "markdown",
   "metadata": {},
   "source": [
    "Example PDFs are available on my GitHub repository: https://github.com/VicPachec/ProyectosVicPach/tree/main/PDFS\n",
    "- You can use **any scanned PDF to test the code**, the code theorically can work with any PDF, configuring the correct language and settings between strings. Depending on the PDF count, size, and scanning quality, results may vary, from some seconds, to less than one hour.\n",
    "- Future work includes **test with other OCR algorithms** (*Mindee DocTR, Amazon Textract, etc.*), to improve quality, speed, and work with heavier PDFs and poorer scannings."
   ]
  }
 ],
 "metadata": {
  "colab": {
   "provenance": []
  },
  "kernelspec": {
   "display_name": "Python 3 (ipykernel)",
   "language": "python",
   "name": "python3"
  },
  "language_info": {
   "codemirror_mode": {
    "name": "ipython",
    "version": 3
   },
   "file_extension": ".py",
   "mimetype": "text/x-python",
   "name": "python",
   "nbconvert_exporter": "python",
   "pygments_lexer": "ipython3",
   "version": "3.10.13"
  }
 },
 "nbformat": 4,
 "nbformat_minor": 4
}
